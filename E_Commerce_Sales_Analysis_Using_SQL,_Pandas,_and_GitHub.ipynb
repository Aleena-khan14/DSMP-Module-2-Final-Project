{
  "nbformat": 4,
  "nbformat_minor": 0,
  "metadata": {
    "colab": {
      "provenance": [],
      "authorship_tag": "ABX9TyNvjGgK09QEb3Sxbs/Sg2n7",
      "include_colab_link": true
    },
    "kernelspec": {
      "name": "python3",
      "display_name": "Python 3"
    },
    "language_info": {
      "name": "python"
    }
  },
  "cells": [
    {
      "cell_type": "markdown",
      "metadata": {
        "id": "view-in-github",
        "colab_type": "text"
      },
      "source": [
        "<a href=\"https://colab.research.google.com/github/Aleena-khan14/DSMP-Module-2-Final-Project/blob/main/E_Commerce_Sales_Analysis_Using_SQL%2C_Pandas%2C_and_GitHub.ipynb\" target=\"_parent\"><img src=\"https://colab.research.google.com/assets/colab-badge.svg\" alt=\"Open In Colab\"/></a>"
      ]
    },
    {
      "cell_type": "code",
      "execution_count": null,
      "metadata": {
        "id": "8wYhZpFX12fi"
      },
      "outputs": [],
      "source": [
        "import pandas as pd\n",
        "import sqlite3\n",
        "import matplotlib.pyplot as plt\n",
        "import seaborn as sns"
      ]
    },
    {
      "cell_type": "code",
      "source": [
        "#importing csv file to dataframes\n",
        "orders = pd.read_csv('https://raw.githubusercontent.com/SobiaNoorAI/Python/main/Ecommerce%20Sales%20Analysis/data/Orders_Large.csv')\n",
        "products = pd.read_csv('https://raw.githubusercontent.com/SobiaNoorAI/Python/main/Ecommerce%20Sales%20Analysis/data/Products_Large.csv')\n",
        "customers = pd.read_csv('https://raw.githubusercontent.com/SobiaNoorAI/Python/main/Ecommerce%20Sales%20Analysis/data/Customers_Large.csv')\n",
        "sales = pd.read_csv('https://raw.githubusercontent.com/SobiaNoorAI/Python/main/Ecommerce%20Sales%20Analysis/data/Sales_Large.csv')\n",
        "\n"
      ],
      "metadata": {
        "id": "DjD0wquM41lP"
      },
      "execution_count": null,
      "outputs": []
    },
    {
      "cell_type": "code",
      "source": [
        "#using sqlite 3 to make empty table\n",
        "conn=sqlite3.connect('ecommerce.db')"
      ],
      "metadata": {
        "id": "gu0gIW-d6ipy"
      },
      "execution_count": null,
      "outputs": []
    },
    {
      "cell_type": "code",
      "source": [
        "#Store Pandas DataFrames into SQL Tables\n",
        "orders.to_sql('Orders',conn,if_exists='replace',index=False)\n",
        "products.to_sql('Products',conn,if_exists='replace',index=False)\n",
        "customers.to_sql('Customers',conn,if_exists='replace',index=False)\n",
        "sales.to_sql('Sales',conn,if_exists='replace',index=False)"
      ],
      "metadata": {
        "colab": {
          "base_uri": "https://localhost:8080/"
        },
        "id": "2v_JVOJ56-5V",
        "outputId": "2ca811fe-787a-4e3d-8b28-d39b9cad98aa"
      },
      "execution_count": null,
      "outputs": [
        {
          "output_type": "execute_result",
          "data": {
            "text/plain": [
              "500"
            ]
          },
          "metadata": {},
          "execution_count": 4
        }
      ]
    },
    {
      "cell_type": "code",
      "source": [
        "#running query to check whether its working or not\n",
        "query= \"\"\"\n",
        "SELECT Name\n",
        "FROM Customers\n",
        "LIMIT 5;\n",
        "\"\"\"\n",
        "result=pd.read_sql_query(query,conn)\n",
        "print(result)"
      ],
      "metadata": {
        "colab": {
          "base_uri": "https://localhost:8080/"
        },
        "id": "LLYydYqV7faq",
        "outputId": "880adce4-0864-474d-d622-eee0a1da1d11"
      },
      "execution_count": null,
      "outputs": [
        {
          "output_type": "stream",
          "name": "stdout",
          "text": [
            "                Name\n",
            "0  Christina Harrell\n",
            "1      David Charles\n",
            "2      Cheryl Harris\n",
            "3       Cameron King\n",
            "4          Tanya Kim\n"
          ]
        }
      ]
    },
    {
      "cell_type": "markdown",
      "source": [
        "# **SQL TASKS**"
      ],
      "metadata": {
        "id": "8IJAkLZf_ZyP"
      }
    },
    {
      "cell_type": "markdown",
      "source": [
        "2. SQL Tasks\n",
        "Objective: Store the dataset in an SQLite database and perform queries.\n",
        "Steps:\n",
        "Use SQLite to create a relational database.\n",
        "Load the datasets into respective tables.\n",
        "Perform SQL queries to extract insights.\n",
        "SQL queries to answer:\n",
        "Total sales revenue by month.\n",
        "Top 5 best-selling products.\n",
        "Revenue contribution by customer segments.\n",
        "Identify the top regions for sales.\n"
      ],
      "metadata": {
        "id": "9y-9LTHi_iV4"
      }
    },
    {
      "cell_type": "markdown",
      "source": [
        "## **Total Sales revenue by Month**"
      ],
      "metadata": {
        "id": "yEO6F41Q_o-F"
      }
    },
    {
      "cell_type": "code",
      "source": [
        "query= \"\"\"\n",
        "SELECT\n",
        "    strftime('%Y-%m', o.OrderDate) AS Month,\n",
        "    SUM(s.Revenue) AS TotalRevenue\n",
        "FROM Orders o\n",
        "JOIN\n",
        "  Sales s\n",
        "  ON o.TransactionID = s.OrderID\n",
        "\n",
        "GROUP BY Month\n",
        "ORDER BY Month;\n",
        "\n",
        "\"\"\"\n",
        "Sales_revenue_monthly=pd.read_sql_query(query,conn)\n",
        "Sales_revenue_monthly.to_csv(\"Sales_revenue_monthly.csv\",index=False)\n",
        "print(Sales_revenue_monthly)"
      ],
      "metadata": {
        "colab": {
          "base_uri": "https://localhost:8080/"
        },
        "id": "TPIVBRCS_fuR",
        "outputId": "d9a95024-d7de-42d5-84ee-52e1e8a8fc29"
      },
      "execution_count": null,
      "outputs": [
        {
          "output_type": "stream",
          "name": "stdout",
          "text": [
            "      Month  TotalRevenue\n",
            "0   2022-11         11211\n",
            "1   2022-12         26988\n",
            "2   2023-01         20364\n",
            "3   2023-02         17371\n",
            "4   2023-03         21717\n",
            "5   2023-04         21783\n",
            "6   2023-05         25470\n",
            "7   2023-06         20934\n",
            "8   2023-07         27406\n",
            "9   2023-08         24805\n",
            "10  2023-09         23331\n",
            "11  2023-10         27643\n",
            "12  2023-11         20785\n",
            "13  2023-12         21525\n",
            "14  2024-01         26647\n",
            "15  2024-02         14664\n",
            "16  2024-03         21321\n",
            "17  2024-04         24108\n",
            "18  2024-05         30968\n",
            "19  2024-06         20219\n",
            "20  2024-07         30688\n",
            "21  2024-08         25381\n",
            "22  2024-09         22423\n",
            "23  2024-10         22526\n",
            "24  2024-11         13721\n"
          ]
        }
      ]
    },
    {
      "cell_type": "markdown",
      "source": [
        "## **Top 5 best-selling products**"
      ],
      "metadata": {
        "id": "Ew1-a5S-XcNN"
      }
    },
    {
      "cell_type": "code",
      "source": [
        "query= \"\"\"\n",
        "SELECT\n",
        "    p.ProductName AS ProductName,\n",
        "    SUM(o.Quantity) AS TotalQuantity\n",
        "FROM Products p\n",
        "JOIN\n",
        "  Orders o\n",
        "  ON p.ProductID = o.ProductID\n",
        "\n",
        "GROUP BY p.ProductID\n",
        "ORDER BY TotalQuantity DESC\n",
        "LIMIT 5;\n",
        "\n",
        "\"\"\"\n",
        "best_selling_products=pd.read_sql_query(query,conn)\n",
        "best_selling_products.to_csv('Top_best_selling_products.csv',index=False)\n",
        "print(best_selling_products)"
      ],
      "metadata": {
        "colab": {
          "base_uri": "https://localhost:8080/"
        },
        "id": "XV5r-u1c_Y2Q",
        "outputId": "898d80cf-4382-46aa-d2af-1f3283fa7483"
      },
      "execution_count": null,
      "outputs": [
        {
          "output_type": "stream",
          "name": "stdout",
          "text": [
            "  ProductName  TotalQuantity\n",
            "0        Card             99\n",
            "1          We             96\n",
            "2      Notice             88\n",
            "3        Size             84\n",
            "4        Both             81\n"
          ]
        }
      ]
    },
    {
      "cell_type": "markdown",
      "source": [
        "# **Revenue contribution by customer segments**"
      ],
      "metadata": {
        "id": "HAjKsC3dhhf5"
      }
    },
    {
      "cell_type": "code",
      "source": [
        "query= \"\"\"\n",
        "SELECT\n",
        "    c.Segment,\n",
        "    SUM(s.Revenue) AS TotalRevenue\n",
        "FROM Customers c\n",
        "JOIN\n",
        "  Orders o\n",
        "  ON c.CustomerID = o.CustomerID\n",
        "JOIN\n",
        "  Sales s\n",
        "  ON o.TransactionID = s.OrderID\n",
        "WHERE s.Revenue IS NOT NULL\n",
        "GROUP BY c.Segment\n",
        "ORDER BY TotalRevenue DESC;\n",
        "\n",
        "\n",
        "\"\"\"\n",
        "segment_revenue=pd.read_sql_query(query,conn)\n",
        "\n",
        "segment_revenue.to_csv('segment_revenue.csv', index=False)\n",
        "print(segment_revenue)"
      ],
      "metadata": {
        "colab": {
          "base_uri": "https://localhost:8080/"
        },
        "id": "pRZSajTkgwok",
        "outputId": "911709cb-48fa-4daf-c88d-50e36474fd83"
      },
      "execution_count": null,
      "outputs": [
        {
          "output_type": "stream",
          "name": "stdout",
          "text": [
            "     Segment  TotalRevenue\n",
            "0  Corporate        262144\n",
            "1  Wholesale        161551\n",
            "2     Retail        140304\n"
          ]
        }
      ]
    },
    {
      "cell_type": "markdown",
      "source": [
        "# **Identify the top regions for sales.**"
      ],
      "metadata": {
        "id": "tj1kcgksb5Wv"
      }
    },
    {
      "cell_type": "code",
      "source": [
        "query= \"\"\"\n",
        "SELECT\n",
        "    c.Region,\n",
        "    SUM(s.Revenue) AS TotalRevenue\n",
        "FROM Customers c\n",
        "JOIN\n",
        "  Orders o\n",
        "  ON c.CustomerID = o.CustomerID\n",
        "JOIN\n",
        "  Sales s\n",
        "  ON o.TransactionID = s.OrderID\n",
        "\n",
        "GROUP BY c.Region\n",
        "ORDER BY TotalRevenue DESC;\n",
        "\n",
        "\n",
        "\"\"\"\n",
        "Top_region_sales=pd.read_sql_query(query,conn)\n",
        "\n",
        "Top_region_sales.to_csv('Top_region_sales.csv', index=False)\n",
        "print(Top_region_sales)\n"
      ],
      "metadata": {
        "colab": {
          "base_uri": "https://localhost:8080/"
        },
        "id": "NE1SmNXjBqvq",
        "outputId": "fe0d41e7-347c-4147-e52f-d343971d0f3a"
      },
      "execution_count": null,
      "outputs": [
        {
          "output_type": "stream",
          "name": "stdout",
          "text": [
            "    Region  TotalRevenue\n",
            "0     West        159531\n",
            "1  Central        132771\n",
            "2     East        123329\n",
            "3    North         94026\n",
            "4    South         54342\n"
          ]
        }
      ]
    },
    {
      "cell_type": "markdown",
      "source": [
        "# **Pandas Tasks**"
      ],
      "metadata": {
        "id": "DP_36eMXhxNj"
      }
    },
    {
      "cell_type": "code",
      "source": [
        "# Check for missing values in each dataset\n",
        "print(\"Orders Missing Values:\")\n",
        "print(orders.isnull().sum())\n",
        "\n",
        "print(\"\\nProducts Missing Values:\")\n",
        "print(products.isnull().sum())\n",
        "\n",
        "print(\"\\nCustomers Missing Values:\")\n",
        "print(customers.isnull().sum())\n",
        "\n",
        "print(\"\\nSales Missing Values:\")\n",
        "print(sales.isnull().sum())\n"
      ],
      "metadata": {
        "colab": {
          "base_uri": "https://localhost:8080/"
        },
        "id": "k5ca_u2QhwFf",
        "outputId": "af2092a6-4045-486f-cb72-164906442591"
      },
      "execution_count": null,
      "outputs": [
        {
          "output_type": "stream",
          "name": "stdout",
          "text": [
            "Orders Missing Values:\n",
            "TransactionID    0\n",
            "OrderDate        0\n",
            "CustomerID       0\n",
            "ProductID        0\n",
            "Quantity         0\n",
            "TotalAmount      0\n",
            "dtype: int64\n",
            "\n",
            "Products Missing Values:\n",
            "ProductID      0\n",
            "ProductName    0\n",
            "Category       0\n",
            "Price          0\n",
            "dtype: int64\n",
            "\n",
            "Customers Missing Values:\n",
            "CustomerID    0\n",
            "Name          0\n",
            "Region        0\n",
            "Segment       0\n",
            "dtype: int64\n",
            "\n",
            "Sales Missing Values:\n",
            "OrderID      0\n",
            "Revenue      0\n",
            "Discounts    0\n",
            "Taxes        0\n",
            "dtype: int64\n"
          ]
        }
      ]
    },
    {
      "cell_type": "code",
      "source": [
        "print(\"Orders Duplicates:\", orders.duplicated().sum())\n",
        "print(\"Products Duplicates:\", products.duplicated().sum())\n",
        "print(\"Customers Duplicates:\", customers.duplicated().sum())\n",
        "print(\"Sales Duplicates:\", sales.duplicated().sum())\n",
        "\n",
        "orders=orders.drop_duplicates()\n",
        "products=products.drop_duplicates()\n",
        "customers=customers.drop_duplicates()\n",
        "sales=sales.drop_duplicates()\n"
      ],
      "metadata": {
        "colab": {
          "base_uri": "https://localhost:8080/"
        },
        "id": "u9qLy0ZrsSFi",
        "outputId": "0d2272f4-c2ae-4140-bfa0-d9aa4c4d4bd9"
      },
      "execution_count": null,
      "outputs": [
        {
          "output_type": "stream",
          "name": "stdout",
          "text": [
            "Orders Duplicates: 0\n",
            "Products Duplicates: 0\n",
            "Customers Duplicates: 0\n",
            "Sales Duplicates: 0\n"
          ]
        }
      ]
    },
    {
      "cell_type": "code",
      "source": [
        "print(\"Orders Info:\")\n",
        "print(orders.info())\n",
        "\n",
        "print(\"\\nProducts Info:\")\n",
        "print(products.info())\n",
        "\n",
        "print(\"\\nCustomers Info:\")\n",
        "print(customers.info())\n",
        "\n",
        "print(\"\\nSales Info:\")\n",
        "print(sales.info())\n"
      ],
      "metadata": {
        "colab": {
          "base_uri": "https://localhost:8080/"
        },
        "id": "Y52svgCQsnm8",
        "outputId": "5dd9d463-8bff-469a-ac51-4e4b93efd042"
      },
      "execution_count": null,
      "outputs": [
        {
          "output_type": "stream",
          "name": "stdout",
          "text": [
            "Orders Info:\n",
            "<class 'pandas.core.frame.DataFrame'>\n",
            "RangeIndex: 500 entries, 0 to 499\n",
            "Data columns (total 6 columns):\n",
            " #   Column         Non-Null Count  Dtype \n",
            "---  ------         --------------  ----- \n",
            " 0   TransactionID  500 non-null    int64 \n",
            " 1   OrderDate      500 non-null    object\n",
            " 2   CustomerID     500 non-null    int64 \n",
            " 3   ProductID      500 non-null    int64 \n",
            " 4   Quantity       500 non-null    int64 \n",
            " 5   TotalAmount    500 non-null    int64 \n",
            "dtypes: int64(5), object(1)\n",
            "memory usage: 23.6+ KB\n",
            "None\n",
            "\n",
            "Products Info:\n",
            "<class 'pandas.core.frame.DataFrame'>\n",
            "RangeIndex: 50 entries, 0 to 49\n",
            "Data columns (total 4 columns):\n",
            " #   Column       Non-Null Count  Dtype \n",
            "---  ------       --------------  ----- \n",
            " 0   ProductID    50 non-null     int64 \n",
            " 1   ProductName  50 non-null     object\n",
            " 2   Category     50 non-null     object\n",
            " 3   Price        50 non-null     int64 \n",
            "dtypes: int64(2), object(2)\n",
            "memory usage: 1.7+ KB\n",
            "None\n",
            "\n",
            "Customers Info:\n",
            "<class 'pandas.core.frame.DataFrame'>\n",
            "RangeIndex: 50 entries, 0 to 49\n",
            "Data columns (total 4 columns):\n",
            " #   Column      Non-Null Count  Dtype \n",
            "---  ------      --------------  ----- \n",
            " 0   CustomerID  50 non-null     int64 \n",
            " 1   Name        50 non-null     object\n",
            " 2   Region      50 non-null     object\n",
            " 3   Segment     50 non-null     object\n",
            "dtypes: int64(1), object(3)\n",
            "memory usage: 1.7+ KB\n",
            "None\n",
            "\n",
            "Sales Info:\n",
            "<class 'pandas.core.frame.DataFrame'>\n",
            "RangeIndex: 500 entries, 0 to 499\n",
            "Data columns (total 4 columns):\n",
            " #   Column     Non-Null Count  Dtype\n",
            "---  ------     --------------  -----\n",
            " 0   OrderID    500 non-null    int64\n",
            " 1   Revenue    500 non-null    int64\n",
            " 2   Discounts  500 non-null    int64\n",
            " 3   Taxes      500 non-null    int64\n",
            "dtypes: int64(4)\n",
            "memory usage: 15.8 KB\n",
            "None\n"
          ]
        }
      ]
    },
    {
      "cell_type": "code",
      "source": [
        "orders['OrderDate'] = pd.to_datetime(orders['OrderDate'])\n",
        "\n",
        "# Verify the conversion\n",
        "print(orders.info())"
      ],
      "metadata": {
        "colab": {
          "base_uri": "https://localhost:8080/"
        },
        "id": "TmAogyrTtC05",
        "outputId": "d8b4cf3c-86db-41dc-f95f-92fe306ac8bb"
      },
      "execution_count": null,
      "outputs": [
        {
          "output_type": "stream",
          "name": "stdout",
          "text": [
            "<class 'pandas.core.frame.DataFrame'>\n",
            "RangeIndex: 500 entries, 0 to 499\n",
            "Data columns (total 6 columns):\n",
            " #   Column         Non-Null Count  Dtype         \n",
            "---  ------         --------------  -----         \n",
            " 0   TransactionID  500 non-null    int64         \n",
            " 1   OrderDate      500 non-null    datetime64[ns]\n",
            " 2   CustomerID     500 non-null    int64         \n",
            " 3   ProductID      500 non-null    int64         \n",
            " 4   Quantity       500 non-null    int64         \n",
            " 5   TotalAmount    500 non-null    int64         \n",
            "dtypes: datetime64[ns](1), int64(5)\n",
            "memory usage: 23.6 KB\n",
            "None\n"
          ]
        }
      ]
    },
    {
      "cell_type": "code",
      "source": [
        "orders.to_csv('cleaned_orders.csv', index=False)\n",
        "products.to_csv('cleaned_products.csv', index=False)\n",
        "customers.to_csv('cleaned_customers.csv', index=False)\n",
        "sales.to_csv('cleaned_sales.csv', index=False)\n",
        "\n",
        "print(\"Data cleaning completed and files saved.\")"
      ],
      "metadata": {
        "colab": {
          "base_uri": "https://localhost:8080/"
        },
        "id": "0IugJu1stM4x",
        "outputId": "3a47b3a2-2792-42e5-ce69-14ebcbd3aeac"
      },
      "execution_count": null,
      "outputs": [
        {
          "output_type": "stream",
          "name": "stdout",
          "text": [
            "Data cleaning completed and files saved.\n"
          ]
        }
      ]
    },
    {
      "cell_type": "markdown",
      "source": [
        "# **EDA**"
      ],
      "metadata": {
        "id": "mIWboyKXto2j"
      }
    },
    {
      "cell_type": "markdown",
      "source": [
        "## 1. Sales Trends"
      ],
      "metadata": {
        "id": "u0sq8jf6840R"
      }
    },
    {
      "cell_type": "code",
      "source": [
        "# Extract month from OrderDate\n",
        "orders['Month'] = pd.to_datetime(orders['OrderDate']).dt.month\n",
        "orders['Year']=pd.to_datetime(orders['OrderDate']).dt.year\n",
        "\n",
        "# Group by Month and calculate TotalRevenue\n",
        "monthly_revenue = orders.groupby('Month')['TotalAmount'].sum().reset_index()\n",
        "yearly_revenue=orders.groupby('Year')['TotalAmount'].sum().reset_index()\n",
        "\n",
        "\n",
        "# Sort by Month\n",
        "# Extract month from OrderDate\n",
        "orders['Month'] = pd.to_datetime(orders['OrderDate']).dt.month\n",
        "orders['Year']=pd.to_datetime(orders['OrderDate']).dt.year\n",
        "\n",
        "# Group by Month and calculate TotalRevenue\n",
        "monthly_revenue = orders.groupby('Month')['TotalAmount'].sum().reset_index()\n",
        "yearly_revenue=orders.groupby('Year')['TotalAmount'].sum().reset_index()\n",
        "\n",
        "\n",
        "# Sort by Month\n",
        "monthly_revenue = monthly_revenue.sort_values('Month')\n",
        "yearly_revenue=yearly_revenue.sort_values('Year')\n",
        "print(\"Monthly revenue: \\n\\n\", monthly_revenue)\n",
        "print(\"\\nYearly revenue: \\n\\n\", yearly_revenue)\n",
        "\n"
      ],
      "metadata": {
        "id": "SzMOK7obtoNP",
        "colab": {
          "base_uri": "https://localhost:8080/"
        },
        "outputId": "2eb7a7ad-7511-4979-b97f-9694e88bec26"
      },
      "execution_count": 32,
      "outputs": [
        {
          "output_type": "stream",
          "name": "stdout",
          "text": [
            "Monthly revenue: \n",
            "\n",
            "     Month  TotalAmount\n",
            "0       1        23169\n",
            "1       2        14671\n",
            "2       3        20446\n",
            "3       4        21664\n",
            "4       5        30093\n",
            "5       6        22289\n",
            "6       7        24503\n",
            "7       8        23733\n",
            "8       9        21824\n",
            "9      10        20679\n",
            "10     11        19130\n",
            "11     12        23476\n",
            "\n",
            "Yearly revenue: \n",
            "\n",
            "    Year  TotalAmount\n",
            "0  2022        16837\n",
            "1  2023       129799\n",
            "2  2024       119041\n"
          ]
        }
      ]
    },
    {
      "cell_type": "markdown",
      "source": [
        "## Customer Behavior"
      ],
      "metadata": {
        "id": "N5iTNp52CEjk"
      }
    },
    {
      "cell_type": "code",
      "source": [],
      "metadata": {
        "id": "s8ioupcbCIxq"
      },
      "execution_count": null,
      "outputs": []
    }
  ]
}